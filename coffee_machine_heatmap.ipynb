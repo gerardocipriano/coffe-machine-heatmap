{
 "cells": [
  {
   "attachments": {},
   "cell_type": "markdown",
   "metadata": {},
   "source": [
    "Il file 'Data.csv' contiene i dati relativi al consumo di energia elettrica della macchina del caffè di Alexide.\\\n",
    "La colonna **Date** rappresenta data e ora della registrazione del sensore. Si noti che le date sono espresse in UTC.\n",
    "Per convertirle nella timezone locale utilizzare\\\n",
    "`df['Date'] = pd.to_datetime(df['Date'], utc = True).dt.tz_convert('Europe/Berlin')`\\\n",
    "La colonna **Energy** rappresenta il consumo di energia totale, espresso in W*min (Watt minuto), a partire dall'accensione del sensore.\n",
    "Si noti che il sensore è stato riavviato diverse volte nel periodo di osservazione e, a seguito di ciascun riavvio, il conteggio è ripartito da 0.\\\n",
    "La colonna **Topic** rappresenta il topic del messaggio mqtt ricevuto dal sensore.\n",
    "\n",
    "Rappresentare i consumi totali in kWh (kiloWatt ora) con una heatmap che abbia sull'asse x le ore del giorno e sull'asse y il giorno della settimana."
   ]
  },
  {
   "attachments": {},
   "cell_type": "markdown",
   "metadata": {},
   "source": [
    "# Coffe Machine Heatmap"
   ]
  },
  {
   "attachments": {},
   "cell_type": "markdown",
   "metadata": {},
   "source": [
    "#### Installo le librerie necessarie"
   ]
  },
  {
   "cell_type": "code",
   "execution_count": 15,
   "metadata": {},
   "outputs": [],
   "source": [
    "import numpy as np\n",
    "import pandas as pd\n",
    "import matplotlib.pyplot as plt\n",
    "import os\n",
    "from datetime import datetime"
   ]
  },
  {
   "attachments": {},
   "cell_type": "markdown",
   "metadata": {},
   "source": [
    "#### 1. Dopo aver importato pandas leggo <tt>data.csv</tt> in un dataframe  <tt>df</tt>."
   ]
  },
  {
   "cell_type": "code",
   "execution_count": 16,
   "metadata": {},
   "outputs": [],
   "source": [
    "df = pd.read_csv('data.csv',  sep=';')"
   ]
  },
  {
   "cell_type": "code",
   "execution_count": 17,
   "metadata": {},
   "outputs": [],
   "source": [
    "df['Date'] = pd.to_datetime(df['Date'], utc = True).dt.tz_convert('Europe/Berlin')"
   ]
  },
  {
   "attachments": {},
   "cell_type": "markdown",
   "metadata": {},
   "source": [
    "#### 2. Exploring the dataframe"
   ]
  },
  {
   "cell_type": "code",
   "execution_count": 18,
   "metadata": {},
   "outputs": [
    {
     "name": "stdout",
     "output_type": "stream",
     "text": [
      "<class 'pandas.core.frame.DataFrame'>\n",
      "RangeIndex: 8080 entries, 0 to 8079\n",
      "Data columns (total 3 columns):\n",
      " #   Column  Non-Null Count  Dtype                        \n",
      "---  ------  --------------  -----                        \n",
      " 0   Energy  8080 non-null   int64                        \n",
      " 1   Date    8080 non-null   datetime64[ns, Europe/Berlin]\n",
      " 2   Topic   8080 non-null   object                       \n",
      "dtypes: datetime64[ns, Europe/Berlin](1), int64(1), object(1)\n",
      "memory usage: 189.5+ KB\n"
     ]
    }
   ],
   "source": [
    "# Verifico che la data sia stata convertita nel tipo corretto (datetime64)\n",
    "df.info()"
   ]
  },
  {
   "cell_type": "code",
   "execution_count": 19,
   "metadata": {},
   "outputs": [
    {
     "data": {
      "text/html": [
       "<div>\n",
       "<style scoped>\n",
       "    .dataframe tbody tr th:only-of-type {\n",
       "        vertical-align: middle;\n",
       "    }\n",
       "\n",
       "    .dataframe tbody tr th {\n",
       "        vertical-align: top;\n",
       "    }\n",
       "\n",
       "    .dataframe thead th {\n",
       "        text-align: right;\n",
       "    }\n",
       "</style>\n",
       "<table border=\"1\" class=\"dataframe\">\n",
       "  <thead>\n",
       "    <tr style=\"text-align: right;\">\n",
       "      <th></th>\n",
       "      <th>Energy</th>\n",
       "      <th>Topic</th>\n",
       "    </tr>\n",
       "    <tr>\n",
       "      <th>Date</th>\n",
       "      <th></th>\n",
       "      <th></th>\n",
       "    </tr>\n",
       "  </thead>\n",
       "  <tbody>\n",
       "    <tr>\n",
       "      <th>2022-10-04 09:44:00+02:00</th>\n",
       "      <td>31678</td>\n",
       "      <td>shellies/shellyplug-s-D9B9EB/relay/0/energy</td>\n",
       "    </tr>\n",
       "    <tr>\n",
       "      <th>2022-10-04 09:45:02+02:00</th>\n",
       "      <td>31680</td>\n",
       "      <td>shellies/shellyplug-s-D9B9EB/relay/0/energy</td>\n",
       "    </tr>\n",
       "    <tr>\n",
       "      <th>2022-10-04 09:46:04+02:00</th>\n",
       "      <td>31688</td>\n",
       "      <td>shellies/shellyplug-s-D9B9EB/relay/0/energy</td>\n",
       "    </tr>\n",
       "    <tr>\n",
       "      <th>2022-10-04 09:47:21+02:00</th>\n",
       "      <td>31692</td>\n",
       "      <td>shellies/shellyplug-s-D9B9EB/relay/0/energy</td>\n",
       "    </tr>\n",
       "    <tr>\n",
       "      <th>2022-10-04 09:48:15+02:00</th>\n",
       "      <td>31694</td>\n",
       "      <td>shellies/shellyplug-s-D9B9EB/relay/0/energy</td>\n",
       "    </tr>\n",
       "    <tr>\n",
       "      <th>...</th>\n",
       "      <td>...</td>\n",
       "      <td>...</td>\n",
       "    </tr>\n",
       "    <tr>\n",
       "      <th>2022-09-25 09:38:57+02:00</th>\n",
       "      <td>243827</td>\n",
       "      <td>shellies/shellyplug-s-D9B9EB/relay/0/energy</td>\n",
       "    </tr>\n",
       "    <tr>\n",
       "      <th>2022-09-25 09:38:59+02:00</th>\n",
       "      <td>243838</td>\n",
       "      <td>shellies/shellyplug-s-D9B9EB/relay/0/energy</td>\n",
       "    </tr>\n",
       "    <tr>\n",
       "      <th>2022-09-25 09:40:09+02:00</th>\n",
       "      <td>243839</td>\n",
       "      <td>shellies/shellyplug-s-D9B9EB/relay/0/energy</td>\n",
       "    </tr>\n",
       "    <tr>\n",
       "      <th>2022-09-25 09:41:06+02:00</th>\n",
       "      <td>243847</td>\n",
       "      <td>shellies/shellyplug-s-D9B9EB/relay/0/energy</td>\n",
       "    </tr>\n",
       "    <tr>\n",
       "      <th>2022-09-25 09:42:00+02:00</th>\n",
       "      <td>243856</td>\n",
       "      <td>shellies/shellyplug-s-D9B9EB/relay/0/energy</td>\n",
       "    </tr>\n",
       "  </tbody>\n",
       "</table>\n",
       "<p>8080 rows × 2 columns</p>\n",
       "</div>"
      ],
      "text/plain": [
       "                           Energy                                        Topic\n",
       "Date                                                                          \n",
       "2022-10-04 09:44:00+02:00   31678  shellies/shellyplug-s-D9B9EB/relay/0/energy\n",
       "2022-10-04 09:45:02+02:00   31680  shellies/shellyplug-s-D9B9EB/relay/0/energy\n",
       "2022-10-04 09:46:04+02:00   31688  shellies/shellyplug-s-D9B9EB/relay/0/energy\n",
       "2022-10-04 09:47:21+02:00   31692  shellies/shellyplug-s-D9B9EB/relay/0/energy\n",
       "2022-10-04 09:48:15+02:00   31694  shellies/shellyplug-s-D9B9EB/relay/0/energy\n",
       "...                           ...                                          ...\n",
       "2022-09-25 09:38:57+02:00  243827  shellies/shellyplug-s-D9B9EB/relay/0/energy\n",
       "2022-09-25 09:38:59+02:00  243838  shellies/shellyplug-s-D9B9EB/relay/0/energy\n",
       "2022-09-25 09:40:09+02:00  243839  shellies/shellyplug-s-D9B9EB/relay/0/energy\n",
       "2022-09-25 09:41:06+02:00  243847  shellies/shellyplug-s-D9B9EB/relay/0/energy\n",
       "2022-09-25 09:42:00+02:00  243856  shellies/shellyplug-s-D9B9EB/relay/0/energy\n",
       "\n",
       "[8080 rows x 2 columns]"
      ]
     },
     "execution_count": 19,
     "metadata": {},
     "output_type": "execute_result"
    }
   ],
   "source": [
    "df.set_index('Date', inplace=True)\n",
    "df"
   ]
  },
  {
   "cell_type": "code",
   "execution_count": 20,
   "metadata": {},
   "outputs": [
    {
     "data": {
      "text/plain": [
       "Text(0, 0.5, 'Energy')"
      ]
     },
     "execution_count": 20,
     "metadata": {},
     "output_type": "execute_result"
    },
    {
     "data": {
      "image/png": "[encoded data removed]",
      "text/plain": [
       "<Figure size 640x480 with 1 Axes>"
      ]
     },
     "metadata": {},
     "output_type": "display_data"
    }
   ],
   "source": [
    "df['Energy'] = df['Energy'] / 1000 \n",
    "plot = df['Energy'].plot()\n",
    "plot.set_xlabel(\"Time\")\n",
    "plot.set_ylabel(\"Energy\")"
   ]
  },
  {
   "cell_type": "code",
   "execution_count": 21,
   "metadata": {},
   "outputs": [
    {
     "data": {
      "text/plain": [
       "<AxesSubplot: xlabel='Date'>"
      ]
     },
     "execution_count": 21,
     "metadata": {},
     "output_type": "execute_result"
    },
    {
     "data": {
      "image/png": "[encoded data removed]",
      "text/plain": [
       "<Figure size 640x480 with 1 Axes>"
      ]
     },
     "metadata": {},
     "output_type": "display_data"
    }
   ],
   "source": [
    "df['DeltaEnergy'] = df['Energy'].diff()"
   ]
  },
  {
   "cell_type": "code",
   "execution_count": 22,
   "metadata": {},
   "outputs": [
    {
     "data": {
      "text/plain": [
       "<AxesSubplot: xlabel='Date'>"
      ]
     },
     "execution_count": 22,
     "metadata": {},
     "output_type": "execute_result"
    },
    {
     "data": {
      "image/png": "[encoded data removed]",
      "text/plain": [
       "<Figure size 640x480 with 1 Axes>"
      ]
     },
     "metadata": {},
     "output_type": "display_data"
    }
   ],
   "source": [
    "df = df[df['DeltaEnergy'] > 0]\n",
    "df['DeltaEnergy'].plot()"
   ]
  },
  {
   "cell_type": "code",
   "execution_count": 23,
   "metadata": {},
   "outputs": [
    {
     "name": "stderr",
     "output_type": "stream",
     "text": [
      "C:\\Users\\Gerry\\AppData\\Local\\Temp\\ipykernel_1152\\2738414297.py:1: FutureWarning: The default value of numeric_only in DataFrameGroupBy.sum is deprecated. In a future version, numeric_only will default to False. Either specify numeric_only or select only columns which should be valid for the function.\n",
      "  df = df.resample('H').sum()\n"
     ]
    },
    {
     "data": {
      "text/plain": [
       "<AxesSubplot: xlabel='Date'>"
      ]
     },
     "execution_count": 23,
     "metadata": {},
     "output_type": "execute_result"
    },
    {
     "data": {
      "image/png": "[encoded data removed]",
      "text/plain": [
       "<Figure size 640x480 with 1 Axes>"
      ]
     },
     "metadata": {},
     "output_type": "display_data"
    }
   ],
   "source": [
    "df = df.resample('H').sum()\n",
    "df['DeltaEnergy'].plot()"
   ]
  },
  {
   "cell_type": "code",
   "execution_count": 24,
   "metadata": {},
   "outputs": [],
   "source": [
    "df = df.reset_index()\n",
    "df[\"Hour\"] = df[\"Date\"].dt.hour\n",
    "df[\"Weekday\"] = df[\"Date\"].dt.weekday\n",
    "weekday_names = [\"Monday\", \"Tuesday\", \"Wednesday\", \"Thursday\", \"Friday\", \"Saturday\", \"Sunday\"]\n",
    "df[\"Weekday\"] = df[\"Weekday\"].apply(lambda x: weekday_names[x])\n",
    "df = df.drop(columns=['Date'])\n",
    "df = df.drop(columns=['Energy'])\n"
   ]
  },
  {
   "cell_type": "code",
   "execution_count": 25,
   "metadata": {},
   "outputs": [
    {
     "data": {
      "text/html": [
       "<div>\n",
       "<style scoped>\n",
       "    .dataframe tbody tr th:only-of-type {\n",
       "        vertical-align: middle;\n",
       "    }\n",
       "\n",
       "    .dataframe tbody tr th {\n",
       "        vertical-align: top;\n",
       "    }\n",
       "\n",
       "    .dataframe thead th {\n",
       "        text-align: right;\n",
       "    }\n",
       "</style>\n",
       "<table border=\"1\" class=\"dataframe\">\n",
       "  <thead>\n",
       "    <tr style=\"text-align: right;\">\n",
       "      <th></th>\n",
       "      <th></th>\n",
       "      <th>DeltaEnergy</th>\n",
       "    </tr>\n",
       "    <tr>\n",
       "      <th>Weekday</th>\n",
       "      <th>Hour</th>\n",
       "      <th></th>\n",
       "    </tr>\n",
       "  </thead>\n",
       "  <tbody>\n",
       "    <tr>\n",
       "      <th rowspan=\"5\" valign=\"top\">Friday</th>\n",
       "      <th>0</th>\n",
       "      <td>0.020</td>\n",
       "    </tr>\n",
       "    <tr>\n",
       "      <th>1</th>\n",
       "      <td>0.019</td>\n",
       "    </tr>\n",
       "    <tr>\n",
       "      <th>2</th>\n",
       "      <td>0.020</td>\n",
       "    </tr>\n",
       "    <tr>\n",
       "      <th>3</th>\n",
       "      <td>0.019</td>\n",
       "    </tr>\n",
       "    <tr>\n",
       "      <th>4</th>\n",
       "      <td>0.016</td>\n",
       "    </tr>\n",
       "    <tr>\n",
       "      <th>...</th>\n",
       "      <th>...</th>\n",
       "      <td>...</td>\n",
       "    </tr>\n",
       "    <tr>\n",
       "      <th rowspan=\"5\" valign=\"top\">Wednesday</th>\n",
       "      <th>19</th>\n",
       "      <td>0.065</td>\n",
       "    </tr>\n",
       "    <tr>\n",
       "      <th>20</th>\n",
       "      <td>0.030</td>\n",
       "    </tr>\n",
       "    <tr>\n",
       "      <th>21</th>\n",
       "      <td>0.017</td>\n",
       "    </tr>\n",
       "    <tr>\n",
       "      <th>22</th>\n",
       "      <td>0.014</td>\n",
       "    </tr>\n",
       "    <tr>\n",
       "      <th>23</th>\n",
       "      <td>0.016</td>\n",
       "    </tr>\n",
       "  </tbody>\n",
       "</table>\n",
       "<p>168 rows × 1 columns</p>\n",
       "</div>"
      ],
      "text/plain": [
       "                DeltaEnergy\n",
       "Weekday   Hour             \n",
       "Friday    0           0.020\n",
       "          1           0.019\n",
       "          2           0.020\n",
       "          3           0.019\n",
       "          4           0.016\n",
       "...                     ...\n",
       "Wednesday 19          0.065\n",
       "          20          0.030\n",
       "          21          0.017\n",
       "          22          0.014\n",
       "          23          0.016\n",
       "\n",
       "[168 rows x 1 columns]"
      ]
     },
     "execution_count": 25,
     "metadata": {},
     "output_type": "execute_result"
    }
   ],
   "source": [
    "df = df.groupby(['Weekday', 'Hour']).sum()\n",
    "df"
   ]
  },
  {
   "cell_type": "code",
   "execution_count": 26,
   "metadata": {},
   "outputs": [],
   "source": [
    "df = df.unstack()"
   ]
  },
  {
   "cell_type": "code",
   "execution_count": 27,
   "metadata": {},
   "outputs": [
    {
     "data": {
      "text/html": [
       "<div>\n",
       "<style scoped>\n",
       "    .dataframe tbody tr th:only-of-type {\n",
       "        vertical-align: middle;\n",
       "    }\n",
       "\n",
       "    .dataframe tbody tr th {\n",
       "        vertical-align: top;\n",
       "    }\n",
       "\n",
       "    .dataframe thead th {\n",
       "        text-align: right;\n",
       "    }\n",
       "</style>\n",
       "<table border=\"1\" class=\"dataframe\">\n",
       "  <thead>\n",
       "    <tr style=\"text-align: right;\">\n",
       "      <th>Hour</th>\n",
       "      <th>0</th>\n",
       "      <th>1</th>\n",
       "      <th>2</th>\n",
       "      <th>3</th>\n",
       "      <th>4</th>\n",
       "      <th>5</th>\n",
       "      <th>6</th>\n",
       "      <th>7</th>\n",
       "      <th>8</th>\n",
       "      <th>9</th>\n",
       "      <th>...</th>\n",
       "      <th>14</th>\n",
       "      <th>15</th>\n",
       "      <th>16</th>\n",
       "      <th>17</th>\n",
       "      <th>18</th>\n",
       "      <th>19</th>\n",
       "      <th>20</th>\n",
       "      <th>21</th>\n",
       "      <th>22</th>\n",
       "      <th>23</th>\n",
       "    </tr>\n",
       "    <tr>\n",
       "      <th>Weekday</th>\n",
       "      <th></th>\n",
       "      <th></th>\n",
       "      <th></th>\n",
       "      <th></th>\n",
       "      <th></th>\n",
       "      <th></th>\n",
       "      <th></th>\n",
       "      <th></th>\n",
       "      <th></th>\n",
       "      <th></th>\n",
       "      <th></th>\n",
       "      <th></th>\n",
       "      <th></th>\n",
       "      <th></th>\n",
       "      <th></th>\n",
       "      <th></th>\n",
       "      <th></th>\n",
       "      <th></th>\n",
       "      <th></th>\n",
       "      <th></th>\n",
       "      <th></th>\n",
       "    </tr>\n",
       "  </thead>\n",
       "  <tbody>\n",
       "    <tr>\n",
       "      <th>Friday</th>\n",
       "      <td>0.020</td>\n",
       "      <td>0.019</td>\n",
       "      <td>0.020</td>\n",
       "      <td>0.019</td>\n",
       "      <td>0.016</td>\n",
       "      <td>0.015</td>\n",
       "      <td>0.015</td>\n",
       "      <td>0.015</td>\n",
       "      <td>1.039</td>\n",
       "      <td>0.271</td>\n",
       "      <td>...</td>\n",
       "      <td>0.883</td>\n",
       "      <td>0.560</td>\n",
       "      <td>0.575</td>\n",
       "      <td>0.220</td>\n",
       "      <td>0.194</td>\n",
       "      <td>0.077</td>\n",
       "      <td>0.016</td>\n",
       "      <td>0.016</td>\n",
       "      <td>0.015</td>\n",
       "      <td>0.012</td>\n",
       "    </tr>\n",
       "    <tr>\n",
       "      <th>Monday</th>\n",
       "      <td>0.033</td>\n",
       "      <td>0.029</td>\n",
       "      <td>0.027</td>\n",
       "      <td>0.027</td>\n",
       "      <td>0.030</td>\n",
       "      <td>0.029</td>\n",
       "      <td>0.030</td>\n",
       "      <td>0.908</td>\n",
       "      <td>0.593</td>\n",
       "      <td>2.738</td>\n",
       "      <td>...</td>\n",
       "      <td>1.555</td>\n",
       "      <td>1.073</td>\n",
       "      <td>0.843</td>\n",
       "      <td>0.762</td>\n",
       "      <td>0.422</td>\n",
       "      <td>0.265</td>\n",
       "      <td>0.119</td>\n",
       "      <td>0.032</td>\n",
       "      <td>0.027</td>\n",
       "      <td>0.030</td>\n",
       "    </tr>\n",
       "    <tr>\n",
       "      <th>Saturday</th>\n",
       "      <td>0.016</td>\n",
       "      <td>0.018</td>\n",
       "      <td>0.015</td>\n",
       "      <td>0.015</td>\n",
       "      <td>0.015</td>\n",
       "      <td>0.014</td>\n",
       "      <td>0.014</td>\n",
       "      <td>0.017</td>\n",
       "      <td>0.014</td>\n",
       "      <td>0.018</td>\n",
       "      <td>...</td>\n",
       "      <td>0.016</td>\n",
       "      <td>0.016</td>\n",
       "      <td>0.679</td>\n",
       "      <td>0.226</td>\n",
       "      <td>0.181</td>\n",
       "      <td>0.220</td>\n",
       "      <td>0.014</td>\n",
       "      <td>0.017</td>\n",
       "      <td>0.015</td>\n",
       "      <td>0.015</td>\n",
       "    </tr>\n",
       "    <tr>\n",
       "      <th>Sunday</th>\n",
       "      <td>0.014</td>\n",
       "      <td>0.013</td>\n",
       "      <td>0.014</td>\n",
       "      <td>0.017</td>\n",
       "      <td>0.017</td>\n",
       "      <td>0.015</td>\n",
       "      <td>0.018</td>\n",
       "      <td>0.017</td>\n",
       "      <td>0.019</td>\n",
       "      <td>0.088</td>\n",
       "      <td>...</td>\n",
       "      <td>0.033</td>\n",
       "      <td>0.035</td>\n",
       "      <td>0.031</td>\n",
       "      <td>0.032</td>\n",
       "      <td>0.031</td>\n",
       "      <td>0.034</td>\n",
       "      <td>0.029</td>\n",
       "      <td>0.029</td>\n",
       "      <td>0.028</td>\n",
       "      <td>0.028</td>\n",
       "    </tr>\n",
       "    <tr>\n",
       "      <th>Thursday</th>\n",
       "      <td>0.015</td>\n",
       "      <td>0.016</td>\n",
       "      <td>0.016</td>\n",
       "      <td>0.016</td>\n",
       "      <td>0.015</td>\n",
       "      <td>0.016</td>\n",
       "      <td>0.014</td>\n",
       "      <td>0.894</td>\n",
       "      <td>0.555</td>\n",
       "      <td>0.558</td>\n",
       "      <td>...</td>\n",
       "      <td>0.756</td>\n",
       "      <td>0.186</td>\n",
       "      <td>0.181</td>\n",
       "      <td>0.765</td>\n",
       "      <td>0.185</td>\n",
       "      <td>0.219</td>\n",
       "      <td>0.040</td>\n",
       "      <td>0.019</td>\n",
       "      <td>0.019</td>\n",
       "      <td>0.020</td>\n",
       "    </tr>\n",
       "    <tr>\n",
       "      <th>Tuesday</th>\n",
       "      <td>0.031</td>\n",
       "      <td>0.031</td>\n",
       "      <td>0.031</td>\n",
       "      <td>0.028</td>\n",
       "      <td>0.029</td>\n",
       "      <td>0.032</td>\n",
       "      <td>0.031</td>\n",
       "      <td>0.030</td>\n",
       "      <td>2.141</td>\n",
       "      <td>1.969</td>\n",
       "      <td>...</td>\n",
       "      <td>1.386</td>\n",
       "      <td>0.670</td>\n",
       "      <td>0.183</td>\n",
       "      <td>0.197</td>\n",
       "      <td>0.151</td>\n",
       "      <td>0.019</td>\n",
       "      <td>0.019</td>\n",
       "      <td>0.018</td>\n",
       "      <td>0.018</td>\n",
       "      <td>0.019</td>\n",
       "    </tr>\n",
       "    <tr>\n",
       "      <th>Wednesday</th>\n",
       "      <td>0.021</td>\n",
       "      <td>0.018</td>\n",
       "      <td>0.019</td>\n",
       "      <td>0.015</td>\n",
       "      <td>0.016</td>\n",
       "      <td>0.016</td>\n",
       "      <td>0.016</td>\n",
       "      <td>1.163</td>\n",
       "      <td>0.317</td>\n",
       "      <td>1.931</td>\n",
       "      <td>...</td>\n",
       "      <td>0.412</td>\n",
       "      <td>0.217</td>\n",
       "      <td>0.160</td>\n",
       "      <td>1.669</td>\n",
       "      <td>0.078</td>\n",
       "      <td>0.065</td>\n",
       "      <td>0.030</td>\n",
       "      <td>0.017</td>\n",
       "      <td>0.014</td>\n",
       "      <td>0.016</td>\n",
       "    </tr>\n",
       "  </tbody>\n",
       "</table>\n",
       "<p>7 rows × 24 columns</p>\n",
       "</div>"
      ],
      "text/plain": [
       "Hour          0      1      2      3      4      5      6      7      8   \\\n",
       "Weekday                                                                    \n",
       "Friday     0.020  0.019  0.020  0.019  0.016  0.015  0.015  0.015  1.039   \n",
       "Monday     0.033  0.029  0.027  0.027  0.030  0.029  0.030  0.908  0.593   \n",
       "Saturday   0.016  0.018  0.015  0.015  0.015  0.014  0.014  0.017  0.014   \n",
       "Sunday     0.014  0.013  0.014  0.017  0.017  0.015  0.018  0.017  0.019   \n",
       "Thursday   0.015  0.016  0.016  0.016  0.015  0.016  0.014  0.894  0.555   \n",
       "Tuesday    0.031  0.031  0.031  0.028  0.029  0.032  0.031  0.030  2.141   \n",
       "Wednesday  0.021  0.018  0.019  0.015  0.016  0.016  0.016  1.163  0.317   \n",
       "\n",
       "Hour          9   ...     14     15     16     17     18     19     20     21  \\\n",
       "Weekday           ...                                                           \n",
       "Friday     0.271  ...  0.883  0.560  0.575  0.220  0.194  0.077  0.016  0.016   \n",
       "Monday     2.738  ...  1.555  1.073  0.843  0.762  0.422  0.265  0.119  0.032   \n",
       "Saturday   0.018  ...  0.016  0.016  0.679  0.226  0.181  0.220  0.014  0.017   \n",
       "Sunday     0.088  ...  0.033  0.035  0.031  0.032  0.031  0.034  0.029  0.029   \n",
       "Thursday   0.558  ...  0.756  0.186  0.181  0.765  0.185  0.219  0.040  0.019   \n",
       "Tuesday    1.969  ...  1.386  0.670  0.183  0.197  0.151  0.019  0.019  0.018   \n",
       "Wednesday  1.931  ...  0.412  0.217  0.160  1.669  0.078  0.065  0.030  0.017   \n",
       "\n",
       "Hour          22     23  \n",
       "Weekday                  \n",
       "Friday     0.015  0.012  \n",
       "Monday     0.027  0.030  \n",
       "Saturday   0.015  0.015  \n",
       "Sunday     0.028  0.028  \n",
       "Thursday   0.019  0.020  \n",
       "Tuesday    0.018  0.019  \n",
       "Wednesday  0.014  0.016  \n",
       "\n",
       "[7 rows x 24 columns]"
      ]
     },
     "execution_count": 27,
     "metadata": {},
     "output_type": "execute_result"
    }
   ],
   "source": [
    "df.columns = df.columns.droplevel(0)\n",
    "df = df.drop_duplicates()\n",
    "df"
   ]
  },
  {
   "cell_type": "code",
   "execution_count": 28,
   "metadata": {},
   "outputs": [
    {
     "data": {
      "text/plain": [
       "<AxesSubplot: xlabel='Hour', ylabel='Weekday'>"
      ]
     },
     "execution_count": 28,
     "metadata": {},
     "output_type": "execute_result"
    },
    {
     "data": {
      "image/png": "[encoded data removed]",
      "text/plain": [
       "<Figure size 640x480 with 2 Axes>"
      ]
     },
     "metadata": {},
     "output_type": "display_data"
    }
   ],
   "source": [
    "import seaborn as sns\n",
    "sns.heatmap(df, linewidths=.5)"
   ]
  }
 ],
 "metadata": {
  "kernelspec": {
   "display_name": "Python 3",
   "language": "python",
   "name": "python3"
  },
  "language_info": {
   "codemirror_mode": {
    "name": "ipython",
    "version": 3
   },
   "file_extension": ".py",
   "mimetype": "text/x-python",
   "name": "python",
   "nbconvert_exporter": "python",
   "pygments_lexer": "ipython3",
   "version": "3.11.0"
  },
  "orig_nbformat": 4,
  "vscode": {
   "interpreter": {
    "hash": "c261aea317cc0286b3b3261fbba9abdec21eaa57589985bb7a274bf54d6cc0a7"
   }
  }
 },
 "nbformat": 4,
 "nbformat_minor": 2
}
